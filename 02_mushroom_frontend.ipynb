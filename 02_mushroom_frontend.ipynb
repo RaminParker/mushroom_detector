{
  "nbformat": 4,
  "nbformat_minor": 0,
  "metadata": {
    "accelerator": "GPU",
    "colab": {
      "name": "02_mushroom_frontend",
      "provenance": [],
      "collapsed_sections": [],
      "toc_visible": true,
      "authorship_tag": "ABX9TyM2AvSsV6hw0tthUe+GDwLy",
      "include_colab_link": true
    },
    "kernelspec": {
      "display_name": "Python 3",
      "name": "python3"
    },
    "widgets": {
      "application/vnd.jupyter.widget-state+json": {
        "6abbc576b17e4a98ba8abe2935383038": {
          "model_module": "@jupyter-widgets/controls",
          "model_name": "VBoxModel",
          "state": {
            "_view_name": "VBoxView",
            "_dom_classes": [],
            "_model_name": "VBoxModel",
            "_view_module": "@jupyter-widgets/controls",
            "_model_module_version": "1.5.0",
            "_view_count": null,
            "_view_module_version": "1.5.0",
            "box_style": "",
            "layout": "IPY_MODEL_67b33986b0d9492db5cbac0671dbf560",
            "_model_module": "@jupyter-widgets/controls",
            "children": [
              "IPY_MODEL_d1018427217e460e9426453abebcc54c",
              "IPY_MODEL_e18fcf5b036a43e8898db0b90549eac8",
              "IPY_MODEL_d38e434ce9d341dc9cf6166e6301a3ce",
              "IPY_MODEL_7e2e4e03405447fab3203947cad1e826",
              "IPY_MODEL_8e123bd6c1a04bc88d29d000f80500f8"
            ]
          }
        },
        "67b33986b0d9492db5cbac0671dbf560": {
          "model_module": "@jupyter-widgets/base",
          "model_name": "LayoutModel",
          "state": {
            "_view_name": "LayoutView",
            "grid_template_rows": null,
            "right": null,
            "justify_content": null,
            "_view_module": "@jupyter-widgets/base",
            "overflow": null,
            "_model_module_version": "1.2.0",
            "_view_count": null,
            "flex_flow": null,
            "width": null,
            "min_width": null,
            "border": null,
            "align_items": null,
            "bottom": null,
            "_model_module": "@jupyter-widgets/base",
            "top": null,
            "grid_column": null,
            "overflow_y": null,
            "overflow_x": null,
            "grid_auto_flow": null,
            "grid_area": null,
            "grid_template_columns": null,
            "flex": null,
            "_model_name": "LayoutModel",
            "justify_items": null,
            "grid_row": null,
            "max_height": null,
            "align_content": null,
            "visibility": null,
            "align_self": null,
            "height": null,
            "min_height": null,
            "padding": null,
            "grid_auto_rows": null,
            "grid_gap": null,
            "max_width": null,
            "order": null,
            "_view_module_version": "1.2.0",
            "grid_template_areas": null,
            "object_position": null,
            "object_fit": null,
            "grid_auto_columns": null,
            "margin": null,
            "display": null,
            "left": null
          }
        },
        "d1018427217e460e9426453abebcc54c": {
          "model_module": "@jupyter-widgets/controls",
          "model_name": "LabelModel",
          "state": {
            "_view_name": "LabelView",
            "style": "IPY_MODEL_c63200db36fa410d805f1df14ee9038f",
            "_dom_classes": [],
            "description": "",
            "_model_name": "LabelModel",
            "placeholder": "​",
            "_view_module": "@jupyter-widgets/controls",
            "_model_module_version": "1.5.0",
            "value": "Select your bear!",
            "_view_count": null,
            "_view_module_version": "1.5.0",
            "description_tooltip": null,
            "_model_module": "@jupyter-widgets/controls",
            "layout": "IPY_MODEL_91fb12ea5db1408fae1b2926d272f1f3"
          }
        },
        "e18fcf5b036a43e8898db0b90549eac8": {
          "model_module": "@jupyter-widgets/controls",
          "model_name": "FileUploadModel",
          "state": {
            "_view_name": "FileUploadView",
            "_counter": 1,
            "style": "IPY_MODEL_0603d931b6ec44bab4cb392e455922d8",
            "_dom_classes": [],
            "description": "Upload",
            "multiple": false,
            "_model_name": "FileUploadModel",
            "data": [
              null
            ],
            "button_style": "",
            "_view_module": "@jupyter-widgets/controls",
            "_model_module_version": "1.5.0",
            "accept": "",
            "_view_count": null,
            "disabled": false,
            "_view_module_version": "1.5.0",
            "error": "",
            "description_tooltip": null,
            "metadata": [
              {
                "name": "image_agaricus.PNG",
                "type": "image/png",
                "size": 4419175,
                "lastModified": 1607863300004
              }
            ],
            "_model_module": "@jupyter-widgets/controls",
            "layout": "IPY_MODEL_7662ba0da7924430987c4d6c350245d6",
            "icon": "upload"
          }
        },
        "d38e434ce9d341dc9cf6166e6301a3ce": {
          "model_module": "@jupyter-widgets/controls",
          "model_name": "ButtonModel",
          "state": {
            "_view_name": "ButtonView",
            "style": "IPY_MODEL_b1e70b36df1a49d7a3a1c97e6d058cf7",
            "_dom_classes": [],
            "description": "Classify",
            "_model_name": "ButtonModel",
            "button_style": "",
            "_view_module": "@jupyter-widgets/controls",
            "_model_module_version": "1.5.0",
            "tooltip": "",
            "_view_count": null,
            "disabled": false,
            "_view_module_version": "1.5.0",
            "layout": "IPY_MODEL_139ed1bf54534bbc99acd3d988b6a09c",
            "_model_module": "@jupyter-widgets/controls",
            "icon": ""
          }
        },
        "7e2e4e03405447fab3203947cad1e826": {
          "model_module": "@jupyter-widgets/output",
          "model_name": "OutputModel",
          "state": {
            "_view_name": "OutputView",
            "msg_id": "",
            "_dom_classes": [],
            "_model_name": "OutputModel",
            "outputs": [
              {
                "output_type": "display_data",
                "metadata": {
                  "tags": []
                },
                "image/png": "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\n",
                "text/plain": "<PIL.Image.Image image mode=RGB size=128x96 at 0x7F6DD798AD30>"
              }
            ],
            "_view_module": "@jupyter-widgets/output",
            "_model_module_version": "1.0.0",
            "_view_count": null,
            "_view_module_version": "1.0.0",
            "layout": "IPY_MODEL_73cabb73c97147e78ac39e90c003c1b4",
            "_model_module": "@jupyter-widgets/output"
          }
        },
        "8e123bd6c1a04bc88d29d000f80500f8": {
          "model_module": "@jupyter-widgets/controls",
          "model_name": "LabelModel",
          "state": {
            "_view_name": "LabelView",
            "style": "IPY_MODEL_b9ab1b34f2824b6fb869a581ca7f1b7f",
            "_dom_classes": [],
            "description": "",
            "_model_name": "LabelModel",
            "placeholder": "​",
            "_view_module": "@jupyter-widgets/controls",
            "_model_module_version": "1.5.0",
            "value": "Prediction: Agaricus; Probability: 1.0000",
            "_view_count": null,
            "_view_module_version": "1.5.0",
            "description_tooltip": null,
            "_model_module": "@jupyter-widgets/controls",
            "layout": "IPY_MODEL_648a1c6e8d1e4c4e9dec0da1422fd668"
          }
        },
        "c63200db36fa410d805f1df14ee9038f": {
          "model_module": "@jupyter-widgets/controls",
          "model_name": "DescriptionStyleModel",
          "state": {
            "_view_name": "StyleView",
            "_model_name": "DescriptionStyleModel",
            "description_width": "",
            "_view_module": "@jupyter-widgets/base",
            "_model_module_version": "1.5.0",
            "_view_count": null,
            "_view_module_version": "1.2.0",
            "_model_module": "@jupyter-widgets/controls"
          }
        },
        "91fb12ea5db1408fae1b2926d272f1f3": {
          "model_module": "@jupyter-widgets/base",
          "model_name": "LayoutModel",
          "state": {
            "_view_name": "LayoutView",
            "grid_template_rows": null,
            "right": null,
            "justify_content": null,
            "_view_module": "@jupyter-widgets/base",
            "overflow": null,
            "_model_module_version": "1.2.0",
            "_view_count": null,
            "flex_flow": null,
            "width": null,
            "min_width": null,
            "border": null,
            "align_items": null,
            "bottom": null,
            "_model_module": "@jupyter-widgets/base",
            "top": null,
            "grid_column": null,
            "overflow_y": null,
            "overflow_x": null,
            "grid_auto_flow": null,
            "grid_area": null,
            "grid_template_columns": null,
            "flex": null,
            "_model_name": "LayoutModel",
            "justify_items": null,
            "grid_row": null,
            "max_height": null,
            "align_content": null,
            "visibility": null,
            "align_self": null,
            "height": null,
            "min_height": null,
            "padding": null,
            "grid_auto_rows": null,
            "grid_gap": null,
            "max_width": null,
            "order": null,
            "_view_module_version": "1.2.0",
            "grid_template_areas": null,
            "object_position": null,
            "object_fit": null,
            "grid_auto_columns": null,
            "margin": null,
            "display": null,
            "left": null
          }
        },
        "0603d931b6ec44bab4cb392e455922d8": {
          "model_module": "@jupyter-widgets/controls",
          "model_name": "ButtonStyleModel",
          "state": {
            "_view_name": "StyleView",
            "_model_name": "ButtonStyleModel",
            "_view_module": "@jupyter-widgets/base",
            "_model_module_version": "1.5.0",
            "_view_count": null,
            "button_color": null,
            "font_weight": "",
            "_view_module_version": "1.2.0",
            "_model_module": "@jupyter-widgets/controls"
          }
        },
        "7662ba0da7924430987c4d6c350245d6": {
          "model_module": "@jupyter-widgets/base",
          "model_name": "LayoutModel",
          "state": {
            "_view_name": "LayoutView",
            "grid_template_rows": null,
            "right": null,
            "justify_content": null,
            "_view_module": "@jupyter-widgets/base",
            "overflow": null,
            "_model_module_version": "1.2.0",
            "_view_count": null,
            "flex_flow": null,
            "width": null,
            "min_width": null,
            "border": null,
            "align_items": null,
            "bottom": null,
            "_model_module": "@jupyter-widgets/base",
            "top": null,
            "grid_column": null,
            "overflow_y": null,
            "overflow_x": null,
            "grid_auto_flow": null,
            "grid_area": null,
            "grid_template_columns": null,
            "flex": null,
            "_model_name": "LayoutModel",
            "justify_items": null,
            "grid_row": null,
            "max_height": null,
            "align_content": null,
            "visibility": null,
            "align_self": null,
            "height": null,
            "min_height": null,
            "padding": null,
            "grid_auto_rows": null,
            "grid_gap": null,
            "max_width": null,
            "order": null,
            "_view_module_version": "1.2.0",
            "grid_template_areas": null,
            "object_position": null,
            "object_fit": null,
            "grid_auto_columns": null,
            "margin": null,
            "display": null,
            "left": null
          }
        },
        "b1e70b36df1a49d7a3a1c97e6d058cf7": {
          "model_module": "@jupyter-widgets/controls",
          "model_name": "ButtonStyleModel",
          "state": {
            "_view_name": "StyleView",
            "_model_name": "ButtonStyleModel",
            "_view_module": "@jupyter-widgets/base",
            "_model_module_version": "1.5.0",
            "_view_count": null,
            "button_color": null,
            "font_weight": "",
            "_view_module_version": "1.2.0",
            "_model_module": "@jupyter-widgets/controls"
          }
        },
        "139ed1bf54534bbc99acd3d988b6a09c": {
          "model_module": "@jupyter-widgets/base",
          "model_name": "LayoutModel",
          "state": {
            "_view_name": "LayoutView",
            "grid_template_rows": null,
            "right": null,
            "justify_content": null,
            "_view_module": "@jupyter-widgets/base",
            "overflow": null,
            "_model_module_version": "1.2.0",
            "_view_count": null,
            "flex_flow": null,
            "width": null,
            "min_width": null,
            "border": null,
            "align_items": null,
            "bottom": null,
            "_model_module": "@jupyter-widgets/base",
            "top": null,
            "grid_column": null,
            "overflow_y": null,
            "overflow_x": null,
            "grid_auto_flow": null,
            "grid_area": null,
            "grid_template_columns": null,
            "flex": null,
            "_model_name": "LayoutModel",
            "justify_items": null,
            "grid_row": null,
            "max_height": null,
            "align_content": null,
            "visibility": null,
            "align_self": null,
            "height": null,
            "min_height": null,
            "padding": null,
            "grid_auto_rows": null,
            "grid_gap": null,
            "max_width": null,
            "order": null,
            "_view_module_version": "1.2.0",
            "grid_template_areas": null,
            "object_position": null,
            "object_fit": null,
            "grid_auto_columns": null,
            "margin": null,
            "display": null,
            "left": null
          }
        },
        "b9ab1b34f2824b6fb869a581ca7f1b7f": {
          "model_module": "@jupyter-widgets/controls",
          "model_name": "DescriptionStyleModel",
          "state": {
            "_view_name": "StyleView",
            "_model_name": "DescriptionStyleModel",
            "description_width": "",
            "_view_module": "@jupyter-widgets/base",
            "_model_module_version": "1.5.0",
            "_view_count": null,
            "_view_module_version": "1.2.0",
            "_model_module": "@jupyter-widgets/controls"
          }
        },
        "648a1c6e8d1e4c4e9dec0da1422fd668": {
          "model_module": "@jupyter-widgets/base",
          "model_name": "LayoutModel",
          "state": {
            "_view_name": "LayoutView",
            "grid_template_rows": null,
            "right": null,
            "justify_content": null,
            "_view_module": "@jupyter-widgets/base",
            "overflow": null,
            "_model_module_version": "1.2.0",
            "_view_count": null,
            "flex_flow": null,
            "width": null,
            "min_width": null,
            "border": null,
            "align_items": null,
            "bottom": null,
            "_model_module": "@jupyter-widgets/base",
            "top": null,
            "grid_column": null,
            "overflow_y": null,
            "overflow_x": null,
            "grid_auto_flow": null,
            "grid_area": null,
            "grid_template_columns": null,
            "flex": null,
            "_model_name": "LayoutModel",
            "justify_items": null,
            "grid_row": null,
            "max_height": null,
            "align_content": null,
            "visibility": null,
            "align_self": null,
            "height": null,
            "min_height": null,
            "padding": null,
            "grid_auto_rows": null,
            "grid_gap": null,
            "max_width": null,
            "order": null,
            "_view_module_version": "1.2.0",
            "grid_template_areas": null,
            "object_position": null,
            "object_fit": null,
            "grid_auto_columns": null,
            "margin": null,
            "display": null,
            "left": null
          }
        },
        "73cabb73c97147e78ac39e90c003c1b4": {
          "model_module": "@jupyter-widgets/base",
          "model_name": "LayoutModel",
          "state": {
            "_view_name": "LayoutView",
            "grid_template_rows": null,
            "right": null,
            "justify_content": null,
            "_view_module": "@jupyter-widgets/base",
            "overflow": null,
            "_model_module_version": "1.2.0",
            "_view_count": null,
            "flex_flow": null,
            "width": null,
            "min_width": null,
            "border": null,
            "align_items": null,
            "bottom": null,
            "_model_module": "@jupyter-widgets/base",
            "top": null,
            "grid_column": null,
            "overflow_y": null,
            "overflow_x": null,
            "grid_auto_flow": null,
            "grid_area": null,
            "grid_template_columns": null,
            "flex": null,
            "_model_name": "LayoutModel",
            "justify_items": null,
            "grid_row": null,
            "max_height": null,
            "align_content": null,
            "visibility": null,
            "align_self": null,
            "height": null,
            "min_height": null,
            "padding": null,
            "grid_auto_rows": null,
            "grid_gap": null,
            "max_width": null,
            "order": null,
            "_view_module_version": "1.2.0",
            "grid_template_areas": null,
            "object_position": null,
            "object_fit": null,
            "grid_auto_columns": null,
            "margin": null,
            "display": null,
            "left": null
          }
        }
      }
    }
  },
  "cells": [
    {
      "cell_type": "markdown",
      "metadata": {
        "id": "view-in-github",
        "colab_type": "text"
      },
      "source": [
        "<a href=\"https://colab.research.google.com/github/RaminParker/mushroom_detector/blob/main/02_mushroom_frontend.ipynb\" target=\"_parent\"><img src=\"https://colab.research.google.com/assets/colab-badge.svg\" alt=\"Open In Colab\"/></a>"
      ]
    },
    {
      "cell_type": "markdown",
      "metadata": {
        "id": "9ImQQZteE4tP"
      },
      "source": [
        "**Note:** \r\n",
        "- This is a *Google Colab* notebook!\r\n",
        "- See also file ``01_mushroom_detector``"
      ]
    },
    {
      "cell_type": "markdown",
      "metadata": {
        "id": "4jm-eNcfkku3"
      },
      "source": [
        "# Set configurations and get data"
      ]
    },
    {
      "cell_type": "markdown",
      "metadata": {
        "id": "HGyo31Cpibts"
      },
      "source": [
        "Mount your Google Drive on your Google Colab runtime"
      ]
    },
    {
      "cell_type": "code",
      "metadata": {
        "colab": {
          "base_uri": "https://localhost:8080/"
        },
        "id": "w0brEK_Ws7O4",
        "outputId": "173d701f-1b09-41b2-adce-744a3ddc4ffc"
      },
      "source": [
        "from google.colab import drive\n",
        "drive.mount('/content/drive/')"
      ],
      "execution_count": 1,
      "outputs": [
        {
          "output_type": "stream",
          "text": [
            "Mounted at /content/drive/\n"
          ],
          "name": "stdout"
        }
      ]
    },
    {
      "cell_type": "markdown",
      "metadata": {
        "id": "FsT6RzYwOGyQ"
      },
      "source": [
        "This cell contains the code necessary to set up fastai and other libraries you'll need.\n",
        "\n",
        "Note: you can check the parameters with ``pip install --help``"
      ]
    },
    {
      "cell_type": "code",
      "metadata": {
        "id": "FepDMezMMBPl",
        "colab": {
          "base_uri": "https://localhost:8080/"
        },
        "outputId": "a2e85fa2-e05c-462e-d3be-fda8a37d949c"
      },
      "source": [
        "!pip install -Uqq fastbook\n",
        "import fastbook\n",
        "fastbook.setup_book()"
      ],
      "execution_count": 2,
      "outputs": [
        {
          "output_type": "stream",
          "text": [
            "\u001b[?25l\r\u001b[K     |▌                               | 10kB 33.0MB/s eta 0:00:01\r\u001b[K     |█                               | 20kB 16.4MB/s eta 0:00:01\r\u001b[K     |█▍                              | 30kB 14.6MB/s eta 0:00:01\r\u001b[K     |█▉                              | 40kB 14.1MB/s eta 0:00:01\r\u001b[K     |██▎                             | 51kB 11.4MB/s eta 0:00:01\r\u001b[K     |██▊                             | 61kB 11.6MB/s eta 0:00:01\r\u001b[K     |███▏                            | 71kB 11.5MB/s eta 0:00:01\r\u001b[K     |███▋                            | 81kB 11.5MB/s eta 0:00:01\r\u001b[K     |████                            | 92kB 11.7MB/s eta 0:00:01\r\u001b[K     |████▌                           | 102kB 11.9MB/s eta 0:00:01\r\u001b[K     |█████                           | 112kB 11.9MB/s eta 0:00:01\r\u001b[K     |█████▌                          | 122kB 11.9MB/s eta 0:00:01\r\u001b[K     |██████                          | 133kB 11.9MB/s eta 0:00:01\r\u001b[K     |██████▍                         | 143kB 11.9MB/s eta 0:00:01\r\u001b[K     |██████▉                         | 153kB 11.9MB/s eta 0:00:01\r\u001b[K     |███████▎                        | 163kB 11.9MB/s eta 0:00:01\r\u001b[K     |███████▊                        | 174kB 11.9MB/s eta 0:00:01\r\u001b[K     |████████▏                       | 184kB 11.9MB/s eta 0:00:01\r\u001b[K     |████████▋                       | 194kB 11.9MB/s eta 0:00:01\r\u001b[K     |█████████                       | 204kB 11.9MB/s eta 0:00:01\r\u001b[K     |█████████▋                      | 215kB 11.9MB/s eta 0:00:01\r\u001b[K     |██████████                      | 225kB 11.9MB/s eta 0:00:01\r\u001b[K     |██████████▌                     | 235kB 11.9MB/s eta 0:00:01\r\u001b[K     |███████████                     | 245kB 11.9MB/s eta 0:00:01\r\u001b[K     |███████████▍                    | 256kB 11.9MB/s eta 0:00:01\r\u001b[K     |███████████▉                    | 266kB 11.9MB/s eta 0:00:01\r\u001b[K     |████████████▎                   | 276kB 11.9MB/s eta 0:00:01\r\u001b[K     |████████████▊                   | 286kB 11.9MB/s eta 0:00:01\r\u001b[K     |█████████████▏                  | 296kB 11.9MB/s eta 0:00:01\r\u001b[K     |█████████████▋                  | 307kB 11.9MB/s eta 0:00:01\r\u001b[K     |██████████████                  | 317kB 11.9MB/s eta 0:00:01\r\u001b[K     |██████████████▋                 | 327kB 11.9MB/s eta 0:00:01\r\u001b[K     |███████████████                 | 337kB 11.9MB/s eta 0:00:01\r\u001b[K     |███████████████▌                | 348kB 11.9MB/s eta 0:00:01\r\u001b[K     |████████████████                | 358kB 11.9MB/s eta 0:00:01\r\u001b[K     |████████████████▍               | 368kB 11.9MB/s eta 0:00:01\r\u001b[K     |████████████████▉               | 378kB 11.9MB/s eta 0:00:01\r\u001b[K     |█████████████████▎              | 389kB 11.9MB/s eta 0:00:01\r\u001b[K     |█████████████████▊              | 399kB 11.9MB/s eta 0:00:01\r\u001b[K     |██████████████████▏             | 409kB 11.9MB/s eta 0:00:01\r\u001b[K     |██████████████████▋             | 419kB 11.9MB/s eta 0:00:01\r\u001b[K     |███████████████████▏            | 430kB 11.9MB/s eta 0:00:01\r\u001b[K     |███████████████████▋            | 440kB 11.9MB/s eta 0:00:01\r\u001b[K     |████████████████████            | 450kB 11.9MB/s eta 0:00:01\r\u001b[K     |████████████████████▌           | 460kB 11.9MB/s eta 0:00:01\r\u001b[K     |█████████████████████           | 471kB 11.9MB/s eta 0:00:01\r\u001b[K     |█████████████████████▍          | 481kB 11.9MB/s eta 0:00:01\r\u001b[K     |█████████████████████▉          | 491kB 11.9MB/s eta 0:00:01\r\u001b[K     |██████████████████████▎         | 501kB 11.9MB/s eta 0:00:01\r\u001b[K     |██████████████████████▊         | 512kB 11.9MB/s eta 0:00:01\r\u001b[K     |███████████████████████▏        | 522kB 11.9MB/s eta 0:00:01\r\u001b[K     |███████████████████████▋        | 532kB 11.9MB/s eta 0:00:01\r\u001b[K     |████████████████████████▏       | 542kB 11.9MB/s eta 0:00:01\r\u001b[K     |████████████████████████▋       | 552kB 11.9MB/s eta 0:00:01\r\u001b[K     |█████████████████████████       | 563kB 11.9MB/s eta 0:00:01\r\u001b[K     |█████████████████████████▌      | 573kB 11.9MB/s eta 0:00:01\r\u001b[K     |██████████████████████████      | 583kB 11.9MB/s eta 0:00:01\r\u001b[K     |██████████████████████████▍     | 593kB 11.9MB/s eta 0:00:01\r\u001b[K     |██████████████████████████▉     | 604kB 11.9MB/s eta 0:00:01\r\u001b[K     |███████████████████████████▎    | 614kB 11.9MB/s eta 0:00:01\r\u001b[K     |███████████████████████████▊    | 624kB 11.9MB/s eta 0:00:01\r\u001b[K     |████████████████████████████▏   | 634kB 11.9MB/s eta 0:00:01\r\u001b[K     |████████████████████████████▊   | 645kB 11.9MB/s eta 0:00:01\r\u001b[K     |█████████████████████████████▏  | 655kB 11.9MB/s eta 0:00:01\r\u001b[K     |█████████████████████████████▋  | 665kB 11.9MB/s eta 0:00:01\r\u001b[K     |██████████████████████████████  | 675kB 11.9MB/s eta 0:00:01\r\u001b[K     |██████████████████████████████▌ | 686kB 11.9MB/s eta 0:00:01\r\u001b[K     |███████████████████████████████ | 696kB 11.9MB/s eta 0:00:01\r\u001b[K     |███████████████████████████████▍| 706kB 11.9MB/s eta 0:00:01\r\u001b[K     |███████████████████████████████▉| 716kB 11.9MB/s eta 0:00:01\r\u001b[K     |████████████████████████████████| 727kB 11.9MB/s \n",
            "\u001b[K     |████████████████████████████████| 51kB 9.2MB/s \n",
            "\u001b[K     |████████████████████████████████| 1.1MB 54.2MB/s \n",
            "\u001b[K     |████████████████████████████████| 194kB 61.1MB/s \n",
            "\u001b[K     |████████████████████████████████| 61kB 10.5MB/s \n",
            "\u001b[?25hMounted at /content/gdrive\n"
          ],
          "name": "stdout"
        }
      ]
    },
    {
      "cell_type": "markdown",
      "metadata": {
        "id": "i8BnbJgjOYdP"
      },
      "source": [
        " Imports everything you need from the library you just installed."
      ]
    },
    {
      "cell_type": "code",
      "metadata": {
        "id": "BLyUx-7YMOrf"
      },
      "source": [
        "from fastbook import *"
      ],
      "execution_count": 3,
      "outputs": []
    },
    {
      "cell_type": "code",
      "metadata": {
        "id": "06b_L8NcMSKC"
      },
      "source": [
        "from fastai.vision.widgets import * "
      ],
      "execution_count": 4,
      "outputs": []
    },
    {
      "cell_type": "code",
      "metadata": {
        "colab": {
          "base_uri": "https://localhost:8080/"
        },
        "id": "L8AbawJgPy8y",
        "outputId": "f65d8b0c-32a6-4a0f-ef40-aa68777ce510"
      },
      "source": [
        "print('Current version:', fastbook.__version__ )"
      ],
      "execution_count": 5,
      "outputs": [
        {
          "output_type": "stream",
          "text": [
            "Current version: 0.0.16\n"
          ],
          "name": "stdout"
        }
      ]
    },
    {
      "cell_type": "markdown",
      "metadata": {
        "id": "j9fsXEBqbLmz"
      },
      "source": [
        "# Creating a notebook app from the model\r\n",
        "- More details in ``01_mushroom_detector``"
      ]
    },
    {
      "cell_type": "code",
      "metadata": {
        "id": "yRSRK_O9ySWH"
      },
      "source": [
        "new_root_dir = \"/content/gdrive/MyDrive/Colab Notebooks/models_exported/mushroom_detector/\"  # specified by me"
      ],
      "execution_count": 6,
      "outputs": []
    },
    {
      "cell_type": "markdown",
      "metadata": {
        "id": "3UE4uEHryd07"
      },
      "source": [
        "Check if file exist:"
      ]
    },
    {
      "cell_type": "code",
      "metadata": {
        "colab": {
          "base_uri": "https://localhost:8080/"
        },
        "id": "aRaRZrlFyd1M",
        "outputId": "545243a4-a562-43c3-eff6-42d6faecd2a9"
      },
      "source": [
        "path = Path(new_root_dir) # no argument needed for root directory\n",
        "path.ls(file_exts='.pkl')"
      ],
      "execution_count": 7,
      "outputs": [
        {
          "output_type": "execute_result",
          "data": {
            "text/plain": [
              "(#1) [Path('/content/gdrive/MyDrive/Colab Notebooks/models_exported/mushroom_detector/2020-12-05-16-21-31_export.pkl')]"
            ]
          },
          "metadata": {
            "tags": []
          },
          "execution_count": 7
        }
      ]
    },
    {
      "cell_type": "code",
      "metadata": {
        "id": "uQex3v3ByvG3"
      },
      "source": [
        "interference_model_name = \"2020-12-05-16-21-31_export.pkl\"  # take previos generated model name"
      ],
      "execution_count": 8,
      "outputs": []
    },
    {
      "cell_type": "code",
      "metadata": {
        "id": "iC8ApOyqymbq"
      },
      "source": [
        "learn_inf = load_learner(path/ interference_model_name)"
      ],
      "execution_count": 9,
      "outputs": []
    },
    {
      "cell_type": "markdown",
      "metadata": {
        "id": "6Rg-dtCqFHDu"
      },
      "source": [
        "We need \n",
        "\n",
        "\n",
        "*   IPython widgets (ipywidgets): GUI components that bring together JavaScript and Python functionality in a web browser\n",
        "*   Voila: system for making applications of IPython widgets available to end users, without them having to use Jupyter at all.\n",
        "\n"
      ]
    },
    {
      "cell_type": "code",
      "metadata": {
        "id": "V07J-fhIafNH"
      },
      "source": [
        "from ipywidgets import *\r\n",
        "import ipywidgets as widgets"
      ],
      "execution_count": 30,
      "outputs": []
    },
    {
      "cell_type": "code",
      "metadata": {
        "id": "SJJmJXQYGizl"
      },
      "source": [
        "btn_upload = widgets.FileUpload() ###"
      ],
      "execution_count": 31,
      "outputs": []
    },
    {
      "cell_type": "markdown",
      "metadata": {
        "id": "lbAjA3n4R5p_"
      },
      "source": [
        "Disyplay it"
      ]
    },
    {
      "cell_type": "code",
      "metadata": {
        "id": "ZOHb88IxRQhr"
      },
      "source": [
        "out_pl = widgets.Output()"
      ],
      "execution_count": 32,
      "outputs": []
    },
    {
      "cell_type": "markdown",
      "metadata": {
        "id": "Vdouhb_sStJ8"
      },
      "source": [
        "Use ``Label`` to display result"
      ]
    },
    {
      "cell_type": "code",
      "metadata": {
        "id": "CVQpPeSJSk-w"
      },
      "source": [
        "lbl_pred = widgets.Label() ###"
      ],
      "execution_count": 35,
      "outputs": []
    },
    {
      "cell_type": "markdown",
      "metadata": {
        "id": "LdPwU-t9TYZ9"
      },
      "source": [
        "We need a button to do the classification"
      ]
    },
    {
      "cell_type": "code",
      "metadata": {
        "id": "cKWvrKYTTPYI"
      },
      "source": [
        "btn_run = widgets.Button(description='Classify') ###"
      ],
      "execution_count": 36,
      "outputs": []
    },
    {
      "cell_type": "markdown",
      "metadata": {
        "id": "dwhkDEJrTup8"
      },
      "source": [
        "We need a *click event handler*, that is, a function that will be called when the button is pressed"
      ]
    },
    {
      "cell_type": "code",
      "metadata": {
        "id": "iMT_UcK0TpoP"
      },
      "source": [
        "def on_click_classify(change):\n",
        "    img = PILImage.create(btn_upload.data[-1])\n",
        "    out_pl.clear_output()\n",
        "    with out_pl: display(img.to_thumb(128,128))\n",
        "    pred,pred_idx,probs = learn_inf.predict(img)\n",
        "    lbl_pred.value = f'Prediction: {pred}; Probability: {probs[pred_idx]:.04f}'"
      ],
      "execution_count": 37,
      "outputs": []
    },
    {
      "cell_type": "code",
      "metadata": {
        "id": "uvQyQRv8UIF3"
      },
      "source": [
        "btn_run.on_click(on_click_classify)"
      ],
      "execution_count": 38,
      "outputs": []
    },
    {
      "cell_type": "markdown",
      "metadata": {
        "id": "FaFyEm9oUxoU"
      },
      "source": [
        "You can test the button now by clicking it. First upload a new image, then click it. You should see the image and predictions update automatically!"
      ]
    },
    {
      "cell_type": "markdown",
      "metadata": {
        "id": "WhnIbGxtVB7c"
      },
      "source": [
        "We can now put all in a vertical box (VBox)"
      ]
    },
    {
      "cell_type": "code",
      "metadata": {
        "colab": {
          "base_uri": "https://localhost:8080/",
          "height": 241,
          "referenced_widgets": [
            "6abbc576b17e4a98ba8abe2935383038",
            "67b33986b0d9492db5cbac0671dbf560",
            "d1018427217e460e9426453abebcc54c",
            "e18fcf5b036a43e8898db0b90549eac8",
            "d38e434ce9d341dc9cf6166e6301a3ce",
            "7e2e4e03405447fab3203947cad1e826",
            "8e123bd6c1a04bc88d29d000f80500f8",
            "c63200db36fa410d805f1df14ee9038f",
            "91fb12ea5db1408fae1b2926d272f1f3",
            "0603d931b6ec44bab4cb392e455922d8",
            "7662ba0da7924430987c4d6c350245d6",
            "b1e70b36df1a49d7a3a1c97e6d058cf7",
            "139ed1bf54534bbc99acd3d988b6a09c",
            "b9ab1b34f2824b6fb869a581ca7f1b7f",
            "648a1c6e8d1e4c4e9dec0da1422fd668",
            "73cabb73c97147e78ac39e90c003c1b4"
          ]
        },
        "id": "qCVeB82sUJkO",
        "outputId": "0eb1b64d-7bfb-4f5d-efdf-e30c5a54960c"
      },
      "source": [
        "VBox([widgets.Label('Select your bear!'), \n",
        "      btn_upload, btn_run, out_pl, lbl_pred])"
      ],
      "execution_count": 39,
      "outputs": [
        {
          "output_type": "display_data",
          "data": {
            "application/vnd.jupyter.widget-view+json": {
              "model_id": "6abbc576b17e4a98ba8abe2935383038",
              "version_minor": 0,
              "version_major": 2
            },
            "text/plain": [
              "VBox(children=(Label(value='Select your bear!'), FileUpload(value={}, description='Upload'), Button(descriptio…"
            ]
          },
          "metadata": {
            "tags": []
          }
        },
        {
          "output_type": "display_data",
          "data": {
            "text/html": [
              ""
            ],
            "text/plain": [
              "<IPython.core.display.HTML object>"
            ]
          },
          "metadata": {
            "tags": []
          }
        },
        {
          "output_type": "display_data",
          "data": {
            "text/html": [
              ""
            ],
            "text/plain": [
              "<IPython.core.display.HTML object>"
            ]
          },
          "metadata": {
            "tags": []
          }
        },
        {
          "output_type": "display_data",
          "data": {
            "text/html": [
              ""
            ],
            "text/plain": [
              "<IPython.core.display.HTML object>"
            ]
          },
          "metadata": {
            "tags": []
          }
        },
        {
          "output_type": "display_data",
          "data": {
            "text/html": [
              ""
            ],
            "text/plain": [
              "<IPython.core.display.HTML object>"
            ]
          },
          "metadata": {
            "tags": []
          }
        }
      ]
    },
    {
      "cell_type": "markdown",
      "metadata": {
        "id": "kB-3AGzCVq2-"
      },
      "source": [
        "\n",
        "We have written all the code necessary for our app. The next step is to convert it into something we can deploy."
      ]
    },
    {
      "cell_type": "code",
      "metadata": {
        "id": "WZxyqi7kzfSY"
      },
      "source": [
        ""
      ],
      "execution_count": null,
      "outputs": []
    }
  ]
}